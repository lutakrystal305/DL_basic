{
  "nbformat": 4,
  "nbformat_minor": 0,
  "metadata": {
    "colab": {
      "name": "CIFAR10.ipynb",
      "provenance": [],
      "authorship_tag": "ABX9TyPIgQaKkvH94DUYLQrEc88T",
      "include_colab_link": true
    },
    "kernelspec": {
      "name": "python3",
      "display_name": "Python 3"
    },
    "language_info": {
      "name": "python"
    },
    "accelerator": "GPU"
  },
  "cells": [
    {
      "cell_type": "markdown",
      "metadata": {
        "id": "view-in-github",
        "colab_type": "text"
      },
      "source": [
        "<a href=\"https://colab.research.google.com/github/lutakrystal305/DL_basic/blob/main/CIFAR10.ipynb\" target=\"_parent\"><img src=\"https://colab.research.google.com/assets/colab-badge.svg\" alt=\"Open In Colab\"/></a>"
      ]
    },
    {
      "cell_type": "code",
      "metadata": {
        "colab": {
          "base_uri": "https://localhost:8080/"
        },
        "id": "XmfqsHeJBa38",
        "outputId": "84065ca9-eb78-42d9-9912-dac8775f9ef7"
      },
      "source": [
        "import numpy as np\n",
        "import matplotlib.pyplot as plt\n",
        "from keras.models import Sequential\n",
        "from keras.layers import Dense, Dropout, Activation, Flatten\n",
        "from keras.layers import Conv2D, MaxPooling2D\n",
        "from keras.utils import np_utils\n",
        "from keras.datasets import cifar10\n",
        "\n",
        "(x_train, y_train), (x_test, y_test) = cifar10.load_data()\n",
        "X_val, y_val = x_train[40000:, :], y_train[40000:]\n",
        "X_train, y_train = x_train[:40000], y_train[:40000]\n",
        "print(X_val.shape)\n",
        "\n"
      ],
      "execution_count": 1,
      "outputs": [
        {
          "output_type": "stream",
          "text": [
            "Downloading data from https://www.cs.toronto.edu/~kriz/cifar-10-python.tar.gz\n",
            "170500096/170498071 [==============================] - 4s 0us/step\n",
            "170508288/170498071 [==============================] - 4s 0us/step\n",
            "(10000, 32, 32, 3)\n"
          ],
          "name": "stdout"
        }
      ]
    },
    {
      "cell_type": "code",
      "metadata": {
        "colab": {
          "base_uri": "https://localhost:8080/"
        },
        "id": "kquDHPeAqZ7X",
        "outputId": "a74ddf28-038e-4d73-c88c-ca67510e0ee0"
      },
      "source": [
        "X_train = X_train.reshape(X_train.shape[0], 32, 32, 3)\n",
        "X_val = X_val.reshape(X_val.shape[0], 32, 32, 3)\n",
        "X_test = x_test.reshape(x_test.shape[0], 32, 32, 3)\n",
        "\n",
        "#one hot encoding\n",
        "Y_train = np_utils.to_categorical(y_train, 10)\n",
        "Y_val = np_utils.to_categorical(y_val, 10)\n",
        "Y_test = np_utils.to_categorical(y_test, 10)\n",
        "print(y_test)"
      ],
      "execution_count": 2,
      "outputs": [
        {
          "output_type": "stream",
          "text": [
            "[[3]\n",
            " [8]\n",
            " [8]\n",
            " ...\n",
            " [5]\n",
            " [1]\n",
            " [7]]\n"
          ],
          "name": "stdout"
        }
      ]
    },
    {
      "cell_type": "code",
      "metadata": {
        "colab": {
          "base_uri": "https://localhost:8080/",
          "height": 690
        },
        "id": "IgnaCpBDsBiJ",
        "outputId": "31aef06e-4286-43bf-d86b-cdc2d0e47f8b"
      },
      "source": [
        "#model\n",
        "model = Sequential()\n",
        "model.add(Conv2D(32, (3, 3), activation='sigmoid', input_shape=(32,32,3)))\n",
        "model.add(Conv2D(32, (3, 3), activation='sigmoid'))\n",
        "model.add(MaxPooling2D(pool_size=(2, 2)))\n",
        "model.add(Conv2D(64, (3, 3), activation='sigmoid'))\n",
        "model.add(Conv2D(64, (3, 3), activation='sigmoid'))\n",
        "model.add(MaxPooling2D(pool_size=(2, 2)))\n",
        "model.add(Flatten())\n",
        "model.add(Dense(128, activation='sigmoid'))\n",
        "model.add(Dense(10, activation='softmax'))\n",
        "\n",
        "#optimize loss function\n",
        "model.compile(loss='categorical_crossentropy',\n",
        "              optimizer='adam',\n",
        "              metrics=['accuracy']\n",
        "              )\n",
        "H = model.fit(X_train, Y_train, validation_data=(X_val, Y_val), batch_size=32, epochs=10, verbose=1)\n",
        "score, acc = model.evaluate(X_test, Y_test, verbose=0)\n",
        "print(score, acc)\n",
        "\n",
        "fig = plt.figure()\n",
        "\n",
        "#predict\n",
        "plt.imshow(X_test[5].reshape(32,32, 3), cmap='gray')\n",
        "\n",
        "y_predict = model.predict(X_test[5].reshape(1,32,32,3))\n",
        "print('Gia tri du doan: ', np.argmax(y_predict))\n",
        "print('Gia tri that: ', y_test[5])"
      ],
      "execution_count": 9,
      "outputs": [
        {
          "output_type": "stream",
          "text": [
            "Epoch 1/10\n",
            "1250/1250 [==============================] - 7s 5ms/step - loss: 2.3209 - accuracy: 0.0978 - val_loss: 2.3091 - val_accuracy: 0.1014\n",
            "Epoch 2/10\n",
            "1250/1250 [==============================] - 5s 4ms/step - loss: 2.2232 - accuracy: 0.1453 - val_loss: 1.9597 - val_accuracy: 0.2753\n",
            "Epoch 3/10\n",
            "1250/1250 [==============================] - 6s 5ms/step - loss: 1.9021 - accuracy: 0.2964 - val_loss: 1.6849 - val_accuracy: 0.3874\n",
            "Epoch 4/10\n",
            "1250/1250 [==============================] - 6s 5ms/step - loss: 1.6347 - accuracy: 0.4075 - val_loss: 1.5541 - val_accuracy: 0.4272\n",
            "Epoch 5/10\n",
            "1250/1250 [==============================] - 6s 5ms/step - loss: 1.5147 - accuracy: 0.4535 - val_loss: 1.4672 - val_accuracy: 0.4693\n",
            "Epoch 6/10\n",
            "1250/1250 [==============================] - 6s 5ms/step - loss: 1.4225 - accuracy: 0.4899 - val_loss: 1.3828 - val_accuracy: 0.5011\n",
            "Epoch 7/10\n",
            "1250/1250 [==============================] - 6s 4ms/step - loss: 1.3339 - accuracy: 0.5237 - val_loss: 1.3136 - val_accuracy: 0.5280\n",
            "Epoch 8/10\n",
            "1250/1250 [==============================] - 5s 4ms/step - loss: 1.2507 - accuracy: 0.5538 - val_loss: 1.2459 - val_accuracy: 0.5492\n",
            "Epoch 9/10\n",
            "1250/1250 [==============================] - 5s 4ms/step - loss: 1.1714 - accuracy: 0.5781 - val_loss: 1.2018 - val_accuracy: 0.5731\n",
            "Epoch 10/10\n",
            "1250/1250 [==============================] - 6s 5ms/step - loss: 1.1143 - accuracy: 0.6041 - val_loss: 1.1792 - val_accuracy: 0.5742\n",
            "1.1964606046676636 0.5741000175476074\n",
            "WARNING:tensorflow:6 out of the last 6 calls to <function Model.make_predict_function.<locals>.predict_function at 0x7f3fcc4cc170> triggered tf.function retracing. Tracing is expensive and the excessive number of tracings could be due to (1) creating @tf.function repeatedly in a loop, (2) passing tensors with different shapes, (3) passing Python objects instead of tensors. For (1), please define your @tf.function outside of the loop. For (2), @tf.function has experimental_relax_shapes=True option that relaxes argument shapes that can avoid unnecessary retracing. For (3), please refer to https://www.tensorflow.org/guide/function#controlling_retracing and https://www.tensorflow.org/api_docs/python/tf/function for  more details.\n",
            "Gia tri du doan:  6\n",
            "Gia tri that:  [6]\n"
          ],
          "name": "stdout"
        },
        {
          "output_type": "display_data",
          "data": {
            "image/png": "[encoded data removed]",
            "text/plain": [
              "<Figure size 432x288 with 1 Axes>"
            ]
          },
          "metadata": {
            "tags": [],
            "needs_background": "light"
          }
        }
      ]
    }
  ]
}