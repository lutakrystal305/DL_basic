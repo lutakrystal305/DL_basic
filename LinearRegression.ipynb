{
  "nbformat": 4,
  "nbformat_minor": 0,
  "metadata": {
    "accelerator": "GPU",
    "colab": {
      "name": "LinearRegression.ipynb",
      "provenance": [],
      "collapsed_sections": [],
      "authorship_tag": "ABX9TyMoIYEeHvXFKesNX8d8hQJ8",
      "include_colab_link": true
    },
    "kernelspec": {
      "display_name": "Python 3",
      "name": "python3"
    },
    "language_info": {
      "name": "python"
    }
  },
  "cells": [
    {
      "cell_type": "markdown",
      "metadata": {
        "id": "view-in-github",
        "colab_type": "text"
      },
      "source": [
        "<a href=\"https://colab.research.google.com/github/lutakrystal305/DL_basic/blob/main/LinearRegression.ipynb\" target=\"_parent\"><img src=\"https://colab.research.google.com/assets/colab-badge.svg\" alt=\"Open In Colab\"/></a>"
      ]
    },
    {
      "cell_type": "code",
      "metadata": {
        "colab": {
          "base_uri": "https://localhost:8080/"
        },
        "id": "m38l1jmeroZT",
        "outputId": "b1493a35-0123-4632-b290-8d46fba2636d"
      },
      "source": [
        "!git clone https://github.com/nttuan8/DL_Tutorial.git"
      ],
      "execution_count": null,
      "outputs": [
        {
          "output_type": "stream",
          "text": [
            "Cloning into 'DL_Tutorial'...\n",
            "remote: Enumerating objects: 113, done.\u001b[K\n",
            "remote: Total 113 (delta 0), reused 0 (delta 0), pack-reused 113\u001b[K\n",
            "Receiving objects: 100% (113/113), 60.69 MiB | 9.73 MiB/s, done.\n",
            "Resolving deltas: 100% (28/28), done.\n"
          ],
          "name": "stdout"
        }
      ]
    },
    {
      "cell_type": "code",
      "metadata": {
        "id": "VehQ8wDMtFZi"
      },
      "source": [
        "!mv \"/content/DL_Tutorial/L1/data_linear.csv\" \"/content/\""
      ],
      "execution_count": null,
      "outputs": []
    },
    {
      "cell_type": "code",
      "metadata": {
        "colab": {
          "base_uri": "https://localhost:8080/"
        },
        "id": "eDIp4D8RtUkQ",
        "outputId": "09b6bb1c-1e26-4ce9-e3e1-d8710ce5f211"
      },
      "source": [
        "!pwd\n"
      ],
      "execution_count": null,
      "outputs": [
        {
          "output_type": "stream",
          "text": [
            "/content\n"
          ],
          "name": "stdout"
        }
      ]
    },
    {
      "cell_type": "code",
      "metadata": {
        "id": "V0fVi8VosZ3V"
      },
      "source": [
        "import numpy as np\n",
        "import pandas as pd\n",
        "import matplotlib.pyplot as plt"
      ],
      "execution_count": null,
      "outputs": []
    },
    {
      "cell_type": "code",
      "metadata": {
        "colab": {
          "base_uri": "https://localhost:8080/"
        },
        "id": "pSIuF7qPtW2_",
        "outputId": "5d427769-4dd5-4e1c-81a2-6eb2f1c7fe8b"
      },
      "source": [
        "data = pd.read_csv(\"data_linear.csv\").values\n",
        "print(data)"
      ],
      "execution_count": null,
      "outputs": [
        {
          "output_type": "stream",
          "text": [
            "[[  30.      448.524 ]\n",
            " [  32.4138  509.248 ]\n",
            " [  34.8276  535.104 ]\n",
            " [  37.2414  551.432 ]\n",
            " [  39.6552  623.418 ]\n",
            " [  42.069   625.992 ]\n",
            " [  44.4828  655.248 ]\n",
            " [  46.8966  701.377 ]\n",
            " [  49.3103  748.918 ]\n",
            " [  51.7241  757.881 ]\n",
            " [  54.1379  831.004 ]\n",
            " [  56.5517  855.409 ]\n",
            " [  58.9655  866.707 ]\n",
            " [  61.3793  902.545 ]\n",
            " [  63.7931  952.261 ]\n",
            " [  66.2069  995.531 ]\n",
            " [  68.6207 1069.78  ]\n",
            " [  71.0345 1074.42  ]\n",
            " [  73.4483 1103.88  ]\n",
            " [  75.8621 1138.69  ]\n",
            " [  78.2759 1153.13  ]\n",
            " [  80.6897 1240.27  ]\n",
            " [  83.1034 1251.9   ]\n",
            " [  85.5172 1287.97  ]\n",
            " [  87.931  1320.47  ]\n",
            " [  90.3448 1374.92  ]\n",
            " [  92.7586 1410.16  ]\n",
            " [  95.1724 1469.69  ]\n",
            " [  97.5862 1478.54  ]\n",
            " [ 100.     1515.28  ]]\n"
          ],
          "name": "stdout"
        }
      ]
    },
    {
      "cell_type": "code",
      "metadata": {
        "colab": {
          "base_uri": "https://localhost:8080/",
          "height": 817
        },
        "id": "MMjsX4E42TWR",
        "outputId": "6d5cd9a9-f3dd-4b4a-ae90-26a8fec7d77b"
      },
      "source": [
        "N = data.shape[0]\n",
        "print(N)\n",
        "x1 = data[:, 0].reshape(-1, 1) #(N, 1)\n",
        "x2 = np.random.randint(5, size=(N, 1))\n",
        "y = data[:, 1].reshape(-1, 1) #(N, 1)\n",
        "\n",
        "\n",
        "x = np.hstack((np.ones((N, 1)), x1, x2)) # noi thanh x = [1 x]... de nhan voi w\n",
        "print(x)\n",
        "plt.scatter(x1, y)\n",
        "plt.scatter(x2, y)\n",
        "plt.xlabel('x')\n",
        "plt.ylabel('giá')"
      ],
      "execution_count": null,
      "outputs": [
        {
          "output_type": "stream",
          "text": [
            "30\n",
            "[[  1.      30.       0.    ]\n",
            " [  1.      32.4138   2.    ]\n",
            " [  1.      34.8276   4.    ]\n",
            " [  1.      37.2414   1.    ]\n",
            " [  1.      39.6552   1.    ]\n",
            " [  1.      42.069    3.    ]\n",
            " [  1.      44.4828   1.    ]\n",
            " [  1.      46.8966   1.    ]\n",
            " [  1.      49.3103   3.    ]\n",
            " [  1.      51.7241   1.    ]\n",
            " [  1.      54.1379   4.    ]\n",
            " [  1.      56.5517   4.    ]\n",
            " [  1.      58.9655   3.    ]\n",
            " [  1.      61.3793   1.    ]\n",
            " [  1.      63.7931   0.    ]\n",
            " [  1.      66.2069   2.    ]\n",
            " [  1.      68.6207   4.    ]\n",
            " [  1.      71.0345   1.    ]\n",
            " [  1.      73.4483   4.    ]\n",
            " [  1.      75.8621   0.    ]\n",
            " [  1.      78.2759   4.    ]\n",
            " [  1.      80.6897   3.    ]\n",
            " [  1.      83.1034   0.    ]\n",
            " [  1.      85.5172   0.    ]\n",
            " [  1.      87.931    0.    ]\n",
            " [  1.      90.3448   2.    ]\n",
            " [  1.      92.7586   0.    ]\n",
            " [  1.      95.1724   2.    ]\n",
            " [  1.      97.5862   2.    ]\n",
            " [  1.     100.       2.    ]]\n"
          ],
          "name": "stdout"
        },
        {
          "output_type": "execute_result",
          "data": {
            "text/plain": [
              "Text(0, 0.5, 'giá')"
            ]
          },
          "metadata": {
            "tags": []
          },
          "execution_count": 38
        },
        {
          "output_type": "display_data",
          "data": {
            "image/png": "[encoded data removed]",
            "text/plain": [
              "<Figure size 432x288 with 1 Axes>"
            ]
          },
          "metadata": {
            "tags": []
          }
        }
      ]
    },
    {
      "cell_type": "code",
      "metadata": {
        "colab": {
          "background_save": true
        },
        "id": "AXU0Ex4Rt7Xk",
        "outputId": "d8a7e5ab-8d0e-4032-a09e-32a458fe0636"
      },
      "source": [
        ""
      ],
      "execution_count": null,
      "outputs": [
        {
          "output_type": "error",
          "ename": "SyntaxError",
          "evalue": "ignored",
          "traceback": [
            "\u001b[0;36m  File \u001b[0;32m\"<ipython-input-46-41cb8ece78eb>\"\u001b[0;36m, line \u001b[0;32m4\u001b[0m\n\u001b[0;31m    x2 np.random.randint(5, (N, 1))\u001b[0m\n\u001b[0m        ^\u001b[0m\n\u001b[0;31mSyntaxError\u001b[0m\u001b[0;31m:\u001b[0m invalid syntax\n"
          ]
        }
      ]
    },
    {
      "cell_type": "code",
      "metadata": {
        "colab": {
          "base_uri": "https://localhost:8080/",
          "height": 297
        },
        "id": "QdJWF9xnySlS",
        "outputId": "e22dc885-1d4b-4d27-b463-122596f7d5b4"
      },
      "source": [
        "from sklearn.linear_model import LinearRegression\n",
        "import numpy as np\n",
        "data = pd.read_csv('data_linear.csv').values\n",
        "x1 = data[:, 0].reshape(-1, 1)\n",
        "N = x1.shape[0]\n",
        "x2 = np.random.randint(15, size=(N, 1))\n",
        "y = data[:, 1].reshape(-1, 1)\n",
        "\n",
        "plt.scatter(x1, x2, y)\n",
        "plt.xlabel('Mét vuông')\n",
        "plt.ylabel('Gía')\n",
        "\n",
        "lrg = LinearRegression()\n",
        "lrg.fit(x, y)\n",
        "y_pred = lrg.predict(x)\n",
        "plt.plot((x1[0], x1[-1]), (y_pred[0], y_pred[-1]), 'r')\n",
        "plt.show()\n",
        "\n",
        "np.savez('w2.npz', a=lrg.intercept_, b=lrg.coef_)\n",
        "\n",
        "k=np.load('w2.npz')\n",
        "a = k['a']\n",
        "b = k['b']\n",
        "print(a, b)"
      ],
      "execution_count": null,
      "outputs": [
        {
          "output_type": "display_data",
          "data": {
            "image/png": "[encoded data removed]",
            "text/plain": [
              "<Figure size 432x288 with 1 Axes>"
            ]
          },
          "metadata": {
            "tags": []
          }
        },
        {
          "output_type": "stream",
          "text": [
            "[-13.20888928] [[ 0.        15.23164    2.6230486]]\n"
          ],
          "name": "stdout"
        }
      ]
    },
    {
      "cell_type": "code",
      "metadata": {
        "colab": {
          "base_uri": "https://localhost:8080/",
          "height": 128
        },
        "id": "9BTYHjE1zndp",
        "outputId": "c59920bb-073a-4992-c37b-8a7cd4a2f9f3"
      },
      "source": [
        ""
      ],
      "execution_count": null,
      "outputs": [
        {
          "output_type": "error",
          "ename": "IndentationError",
          "evalue": "ignored",
          "traceback": [
            "\u001b[0;36m  File \u001b[0;32m\"<ipython-input-9-86a24783d392>\"\u001b[0;36m, line \u001b[0;32m7\u001b[0m\n\u001b[0;31m    r = np.dot(x, w) - y\u001b[0m\n\u001b[0m    ^\u001b[0m\n\u001b[0;31mIndentationError\u001b[0m\u001b[0;31m:\u001b[0m expected an indented block\n"
          ]
        }
      ]
    }
  ]
}