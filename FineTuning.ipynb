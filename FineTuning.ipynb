{
  "nbformat": 4,
  "nbformat_minor": 0,
  "metadata": {
    "colab": {
      "name": "FineTuning.ipynb",
      "provenance": [],
      "authorship_tag": "ABX9TyNy6mdvJqVDiFuWrCg02min",
      "include_colab_link": true
    },
    "kernelspec": {
      "name": "python3",
      "display_name": "Python 3"
    },
    "language_info": {
      "name": "python"
    },
    "accelerator": "GPU"
  },
  "cells": [
    {
      "cell_type": "markdown",
      "metadata": {
        "id": "view-in-github",
        "colab_type": "text"
      },
      "source": [
        "<a href=\"https://colab.research.google.com/github/lutakrystal305/DL_basic/blob/main/FineTuning.ipynb\" target=\"_parent\"><img src=\"https://colab.research.google.com/assets/colab-badge.svg\" alt=\"Open In Colab\"/></a>"
      ]
    },
    {
      "cell_type": "code",
      "metadata": {
        "colab": {
          "base_uri": "https://localhost:8080/"
        },
        "id": "obkj8-SRV_gj",
        "outputId": "9bcb7b8c-7f27-47f9-bc37-11e6f246af92"
      },
      "source": [
        "!git clone https://github.com/nttuan8/DL_Tutorial"
      ],
      "execution_count": 1,
      "outputs": [
        {
          "output_type": "stream",
          "text": [
            "Cloning into 'DL_Tutorial'...\n",
            "remote: Enumerating objects: 113, done.\u001b[K\n",
            "remote: Total 113 (delta 0), reused 0 (delta 0), pack-reused 113\u001b[K\n",
            "Receiving objects: 100% (113/113), 60.69 MiB | 23.47 MiB/s, done.\n",
            "Resolving deltas: 100% (28/28), done.\n"
          ],
          "name": "stdout"
        }
      ]
    },
    {
      "cell_type": "code",
      "metadata": {
        "id": "At9HIH_bWRFL"
      },
      "source": [
        "!unzip /content/DL_Tutorial/L9/dataset.zip\n",
        "%cd /content/"
      ],
      "execution_count": null,
      "outputs": []
    },
    {
      "cell_type": "code",
      "metadata": {
        "colab": {
          "base_uri": "https://localhost:8080/"
        },
        "id": "1mS2aitYWhOK",
        "outputId": "9fd9414b-f7a5-41a5-d867-b9ca0b4c836d"
      },
      "source": [
        "!pwd"
      ],
      "execution_count": 4,
      "outputs": [
        {
          "output_type": "stream",
          "text": [
            "/content\n"
          ],
          "name": "stdout"
        }
      ]
    },
    {
      "cell_type": "code",
      "metadata": {
        "id": "9EM91bZBWiqy"
      },
      "source": [
        "from sklearn.linear_model import LogisticRegression\n",
        "from sklearn.model_selection import GridSearchCV\n",
        "from sklearn.metrics import classification_report\n",
        "from imutils import paths\n",
        "from keras.applications.vgg16 import VGG16\n",
        "from keras.applications import imagenet_utils\n",
        "from keras.preprocessing.image import img_to_array, load_img, ImageDataGenerator\n",
        "from sklearn.preprocessing import LabelEncoder, LabelBinarizer\n",
        "from sklearn.model_selection import train_test_split\n",
        "from keras.optimizers import SGD, RMSprop\n",
        "from keras.layers import Input\n",
        "from keras.models import Model\n",
        "from keras.layers.core import Dense, Flatten, Dropout\n",
        "import numpy as np\n",
        "import random\n",
        "import os"
      ],
      "execution_count": 7,
      "outputs": []
    },
    {
      "cell_type": "code",
      "metadata": {
        "colab": {
          "base_uri": "https://localhost:8080/"
        },
        "id": "oGL_CWqLXtLO",
        "outputId": "0913a175-616d-4351-a2ce-b4cc529099c3"
      },
      "source": [
        "image_path = list(paths.list_images('dataset/'))\n",
        "random.shuffle(image_path)\n",
        "labels = [p.split(os.path.sep)[-2] for p in image_path]\n",
        "\n",
        "le = LabelEncoder()\n",
        "labels = le.fit_transform(labels)\n",
        "\n",
        "#one hot encoding\n",
        "lb = LabelBinarizer()\n",
        "labels = lb.fit_transform(labels)\n",
        "print(labels)"
      ],
      "execution_count": 21,
      "outputs": [
        {
          "output_type": "stream",
          "text": [
            "[[0 0 0 ... 0 0 0]\n",
            " [0 0 0 ... 0 0 0]\n",
            " [0 0 0 ... 0 0 0]\n",
            " ...\n",
            " [0 0 0 ... 0 0 0]\n",
            " [0 0 0 ... 0 0 0]\n",
            " [0 0 0 ... 0 0 1]]\n"
          ],
          "name": "stdout"
        }
      ]
    },
    {
      "cell_type": "code",
      "metadata": {
        "colab": {
          "base_uri": "https://localhost:8080/"
        },
        "id": "JHifQjE4YY_g",
        "outputId": "9faf40f8-3c04-46e0-8b8d-9f92563e0880"
      },
      "source": [
        "list_image = []\n",
        "for (j, imagePath) in enumerate(image_path):\n",
        "    image = load_img(imagePath, target_size=(224, 224))\n",
        "    image = img_to_array(image)\n",
        "    image = np.expand_dims(image, 0)\n",
        "    image = imagenet_utils.preprocess_input(image)\n",
        "\n",
        "    list_image.append(image)\n",
        "\n",
        "list_image = np.vstack(list_image) \n",
        "print(list_image.shape)"
      ],
      "execution_count": 23,
      "outputs": [
        {
          "output_type": "stream",
          "text": [
            "(1360, 224, 224, 3)\n"
          ],
          "name": "stdout"
        }
      ]
    },
    {
      "cell_type": "code",
      "metadata": {
        "id": "nxeXjHm4ZeFH"
      },
      "source": [
        ""
      ],
      "execution_count": 17,
      "outputs": []
    },
    {
      "cell_type": "code",
      "metadata": {
        "colab": {
          "base_uri": "https://localhost:8080/"
        },
        "id": "EBbiYOiFZr38",
        "outputId": "55fbda83-847b-4da4-fc2a-09cb23bee5d4"
      },
      "source": [
        "#load model vgg16 reject fcl\n",
        "baseModel = VGG16(weights='imagenet', include_top=False, input_tensor=Input(shape=(224, 224, 3)))\n",
        "\n",
        "# Add layer\n",
        "\n",
        "#Lấy output của convNet trong VGG16\n",
        "fcHead = baseModel.output\n",
        "\n",
        "#Flatten truoc khi dung FCs\n",
        "fcHead = Flatten(name='flatten')(fcHead)\n",
        "\n",
        "#Thêm Fully Connected Layer\n",
        "fcHead = Dense(256, activation='relu')(fcHead)\n",
        "fcHead = Dropout(0.5)(fcHead)\n",
        "fcHead = Dense(17, activation='softmax')(fcHead)\n",
        "\n",
        "print(baseModel.input)\n",
        "#Xây dựng model bằng cách nối baseModel và fcHead\n",
        "model = Model(inputs=baseModel.input, outputs = fcHead)"
      ],
      "execution_count": 27,
      "outputs": [
        {
          "output_type": "stream",
          "text": [
            "KerasTensor(type_spec=TensorSpec(shape=(None, 224, 224, 3), dtype=tf.float32, name='input_9'), name='input_9', description=\"created by layer 'input_9'\")\n"
          ],
          "name": "stdout"
        }
      ]
    },
    {
      "cell_type": "code",
      "metadata": {
        "id": "jnXVdVCOcj01"
      },
      "source": [
        "X_train, X_test, Y_train, Y_test = train_test_split(list_image, labels, test_size=0.2, random_state=42)"
      ],
      "execution_count": 28,
      "outputs": []
    },
    {
      "cell_type": "code",
      "metadata": {
        "id": "wX2Y2zmoc6yn"
      },
      "source": [
        "#data augmentation\n",
        "aug_train = ImageDataGenerator(rescale=1./255, rotation_range=30, width_shift_range=0.1, height_shift_range=0.1, shear_range=0.2,\n",
        "                               zoom_range=0.2, horizontal_flip=True, fill_mode='nearest'\n",
        "                               )\n",
        "aug_test = ImageDataGenerator(rescale=1./255)\n"
      ],
      "execution_count": 31,
      "outputs": []
    },
    {
      "cell_type": "code",
      "metadata": {
        "colab": {
          "base_uri": "https://localhost:8080/"
        },
        "id": "Q_UslEVrfzJX",
        "outputId": "d0b8b78f-34fb-481c-ac5c-26db6e001b2c"
      },
      "source": [
        "#Đóng băng các layer của VGG16\n",
        "for layer in baseModel.layers:\n",
        "    layer.trainable = False\n",
        "\n",
        "opt = RMSprop(0.001)\n",
        "model.compile(opt, 'categorical_crossentropy', ['accuracy'])\n",
        "numOfEpoch = 25\n",
        "#git_generator vì dùng aug sẽ sinh ra thêm ảnh\n",
        "H = model.fit_generator(aug_train.flow(X_train, Y_train, batch_size=32),\n",
        "                        steps_per_epoch = len(X_train)//32,\n",
        "                        validation_data=(aug_test.flow(X_test, Y_test, batch_size=32)),\n",
        "                        validation_steps=len(X_test)//32,\n",
        "                        epochs = numOfEpoch\n",
        "                        )\n"
      ],
      "execution_count": 33,
      "outputs": [
        {
          "output_type": "stream",
          "text": [
            "/usr/local/lib/python3.7/dist-packages/keras/engine/training.py:1915: UserWarning: `Model.fit_generator` is deprecated and will be removed in a future version. Please use `Model.fit`, which supports generators.\n",
            "  warnings.warn('`Model.fit_generator` is deprecated and '\n"
          ],
          "name": "stderr"
        },
        {
          "output_type": "stream",
          "text": [
            "Epoch 1/25\n",
            "34/34 [==============================] - 53s 321ms/step - loss: 6.7390 - accuracy: 0.1067 - val_loss: 2.2202 - val_accuracy: 0.2852\n",
            "Epoch 2/25\n",
            "34/34 [==============================] - 10s 304ms/step - loss: 2.5018 - accuracy: 0.2242 - val_loss: 1.7843 - val_accuracy: 0.4453\n",
            "Epoch 3/25\n",
            "34/34 [==============================] - 10s 306ms/step - loss: 2.0692 - accuracy: 0.3620 - val_loss: 1.2243 - val_accuracy: 0.6367\n",
            "Epoch 4/25\n",
            "34/34 [==============================] - 10s 306ms/step - loss: 1.7355 - accuracy: 0.4589 - val_loss: 0.9954 - val_accuracy: 0.7070\n",
            "Epoch 5/25\n",
            "34/34 [==============================] - 10s 307ms/step - loss: 1.5591 - accuracy: 0.4948 - val_loss: 0.8933 - val_accuracy: 0.7344\n",
            "Epoch 6/25\n",
            "34/34 [==============================] - 10s 306ms/step - loss: 1.3769 - accuracy: 0.5576 - val_loss: 0.9400 - val_accuracy: 0.6602\n",
            "Epoch 7/25\n",
            "34/34 [==============================] - 10s 307ms/step - loss: 1.2755 - accuracy: 0.5803 - val_loss: 0.7007 - val_accuracy: 0.8008\n",
            "Epoch 8/25\n",
            "34/34 [==============================] - 10s 305ms/step - loss: 1.1418 - accuracy: 0.6462 - val_loss: 1.1313 - val_accuracy: 0.6406\n",
            "Epoch 9/25\n",
            "34/34 [==============================] - 10s 304ms/step - loss: 1.1905 - accuracy: 0.5948 - val_loss: 0.6342 - val_accuracy: 0.7969\n",
            "Epoch 10/25\n",
            "34/34 [==============================] - 10s 306ms/step - loss: 1.0597 - accuracy: 0.6798 - val_loss: 0.6430 - val_accuracy: 0.7969\n",
            "Epoch 11/25\n",
            "34/34 [==============================] - 10s 305ms/step - loss: 0.9680 - accuracy: 0.6869 - val_loss: 0.6120 - val_accuracy: 0.8008\n",
            "Epoch 12/25\n",
            "34/34 [==============================] - 11s 308ms/step - loss: 0.9691 - accuracy: 0.6825 - val_loss: 0.5502 - val_accuracy: 0.8242\n",
            "Epoch 13/25\n",
            "34/34 [==============================] - 10s 307ms/step - loss: 0.8293 - accuracy: 0.7329 - val_loss: 0.5596 - val_accuracy: 0.8164\n",
            "Epoch 14/25\n",
            "34/34 [==============================] - 10s 307ms/step - loss: 0.7889 - accuracy: 0.7216 - val_loss: 0.6037 - val_accuracy: 0.8203\n",
            "Epoch 15/25\n",
            "34/34 [==============================] - 10s 305ms/step - loss: 0.8521 - accuracy: 0.7196 - val_loss: 0.4581 - val_accuracy: 0.8633\n",
            "Epoch 16/25\n",
            "34/34 [==============================] - 10s 306ms/step - loss: 0.8223 - accuracy: 0.7433 - val_loss: 0.5283 - val_accuracy: 0.8125\n",
            "Epoch 17/25\n",
            "34/34 [==============================] - 10s 306ms/step - loss: 0.6698 - accuracy: 0.7877 - val_loss: 0.5753 - val_accuracy: 0.8164\n",
            "Epoch 18/25\n",
            "34/34 [==============================] - 10s 308ms/step - loss: 0.7653 - accuracy: 0.7612 - val_loss: 0.5997 - val_accuracy: 0.7812\n",
            "Epoch 19/25\n",
            "34/34 [==============================] - 11s 309ms/step - loss: 0.7428 - accuracy: 0.7523 - val_loss: 0.4485 - val_accuracy: 0.8320\n",
            "Epoch 20/25\n",
            "34/34 [==============================] - 10s 307ms/step - loss: 0.7231 - accuracy: 0.7776 - val_loss: 0.4928 - val_accuracy: 0.8633\n",
            "Epoch 21/25\n",
            "34/34 [==============================] - 10s 308ms/step - loss: 0.6437 - accuracy: 0.7678 - val_loss: 0.4144 - val_accuracy: 0.8711\n",
            "Epoch 22/25\n",
            "34/34 [==============================] - 10s 307ms/step - loss: 0.7541 - accuracy: 0.7476 - val_loss: 0.4727 - val_accuracy: 0.8633\n",
            "Epoch 23/25\n",
            "34/34 [==============================] - 10s 306ms/step - loss: 0.6695 - accuracy: 0.7972 - val_loss: 0.5366 - val_accuracy: 0.8359\n",
            "Epoch 24/25\n",
            "34/34 [==============================] - 10s 306ms/step - loss: 0.6583 - accuracy: 0.7844 - val_loss: 0.4085 - val_accuracy: 0.8750\n",
            "Epoch 25/25\n",
            "34/34 [==============================] - 10s 304ms/step - loss: 0.6423 - accuracy: 0.8121 - val_loss: 0.4091 - val_accuracy: 0.8750\n"
          ],
          "name": "stdout"
        }
      ]
    },
    {
      "cell_type": "code",
      "metadata": {
        "colab": {
          "base_uri": "https://localhost:8080/"
        },
        "id": "DCXZUE08hKp-",
        "outputId": "7262edef-d4be-4dfd-91e8-cc61ab2171c3"
      },
      "source": [
        "#phá băng các layer của VGG\n",
        "for layer in baseModel.layers:\n",
        "    layer.trainable = True\n",
        "\n",
        "numOfEpoch = 35\n",
        "opt = SGD(0.001)\n",
        "H = model.fit_generator(aug_train.flow(X_train, Y_train, batch_size=32), \n",
        "                        steps_per_epoch=len(X_train)//32,\n",
        "                        validation_data=(aug_test.flow(X_test, Y_test, batch_size=32)),\n",
        "                        validation_steps=len(X_test)//32,\n",
        "                        epochs=numOfEpoch)"
      ],
      "execution_count": 35,
      "outputs": [
        {
          "output_type": "stream",
          "text": [
            "34/34 [==============================] - 10s 305ms/step - loss: 0.4192 - accuracy: 0.8695 - val_loss: 0.4353 - val_accuracy: 0.8867\n",
            "Epoch 28/35\n",
            "34/34 [==============================] - 10s 303ms/step - loss: 0.3954 - accuracy: 0.8686 - val_loss: 0.5051 - val_accuracy: 0.8945\n",
            "Epoch 29/35\n",
            "34/34 [==============================] - 10s 304ms/step - loss: 0.3925 - accuracy: 0.8713 - val_loss: 0.4901 - val_accuracy: 0.8789\n",
            "Epoch 30/35\n",
            "34/34 [==============================] - 10s 304ms/step - loss: 0.3950 - accuracy: 0.8741 - val_loss: 0.4853 - val_accuracy: 0.8594\n",
            "Epoch 31/35\n",
            "34/34 [==============================] - 10s 306ms/step - loss: 0.4147 - accuracy: 0.8732 - val_loss: 0.5052 - val_accuracy: 0.8945\n",
            "Epoch 32/35\n",
            "34/34 [==============================] - 10s 306ms/step - loss: 0.4270 - accuracy: 0.8768 - val_loss: 0.4901 - val_accuracy: 0.8945\n",
            "Epoch 33/35\n",
            "34/34 [==============================] - 10s 304ms/step - loss: 0.4103 - accuracy: 0.8676 - val_loss: 0.5786 - val_accuracy: 0.8633\n",
            "Epoch 34/35\n",
            "34/34 [==============================] - 10s 304ms/step - loss: 0.3581 - accuracy: 0.8833 - val_loss: 0.5562 - val_accuracy: 0.8594\n",
            "Epoch 35/35\n",
            "34/34 [==============================] - 10s 304ms/step - loss: 0.3576 - accuracy: 0.8943 - val_loss: 0.8688 - val_accuracy: 0.8516\n"
          ],
          "name": "stdout"
        }
      ]
    }
  ]
}