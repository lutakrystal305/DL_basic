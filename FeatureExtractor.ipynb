{
  "nbformat": 4,
  "nbformat_minor": 0,
  "metadata": {
    "colab": {
      "name": "FeatureExtractor.ipynb",
      "provenance": [],
      "authorship_tag": "ABX9TyNkcWxg9r8W441cePaar3Bh",
      "include_colab_link": true
    },
    "kernelspec": {
      "name": "python3",
      "display_name": "Python 3"
    },
    "language_info": {
      "name": "python"
    },
    "accelerator": "GPU"
  },
  "cells": [
    {
      "cell_type": "markdown",
      "metadata": {
        "id": "view-in-github",
        "colab_type": "text"
      },
      "source": [
        "<a href=\"https://colab.research.google.com/github/lutakrystal305/DL_basic/blob/main/FeatureExtractor.ipynb\" target=\"_parent\"><img src=\"https://colab.research.google.com/assets/colab-badge.svg\" alt=\"Open In Colab\"/></a>"
      ]
    },
    {
      "cell_type": "code",
      "metadata": {
        "colab": {
          "base_uri": "https://localhost:8080/"
        },
        "id": "TwUl1FRSFKFo",
        "outputId": "c0dcccc8-b858-4c78-8ae0-60571dfcfb20"
      },
      "source": [
        "!git clone https://github.com/nttuan8/DL_Tutorial"
      ],
      "execution_count": null,
      "outputs": [
        {
          "output_type": "stream",
          "text": [
            "fatal: destination path 'DL_Tutorial' already exists and is not an empty directory.\n"
          ],
          "name": "stdout"
        }
      ]
    },
    {
      "cell_type": "code",
      "metadata": {
        "id": "dGKOSVcmFWgF"
      },
      "source": [
        "%cd /content/\n",
        "!unzip /content/DL_Tutorial/L9/dataset.zip\n"
      ],
      "execution_count": null,
      "outputs": []
    },
    {
      "cell_type": "code",
      "metadata": {
        "id": "ZediPazGFfxv",
        "colab": {
          "base_uri": "https://localhost:8080/"
        },
        "outputId": "59b2eb42-f1dc-49c4-8c75-929c72549548"
      },
      "source": [
        "!pwd\n"
      ],
      "execution_count": null,
      "outputs": [
        {
          "output_type": "stream",
          "text": [
            "/content\n"
          ],
          "name": "stdout"
        }
      ]
    },
    {
      "cell_type": "code",
      "metadata": {
        "id": "Xk4yFgCTCCS2"
      },
      "source": [
        "from sklearn.linear_model import LogisticRegression\n",
        "from sklearn.model_selection import GridSearchCV\n",
        "from sklearn.metrics import classification_report\n",
        "from imutils import paths\n",
        "from keras.applications.vgg16 import VGG16\n",
        "from keras.applications import imagenet_utils\n",
        "from keras.preprocessing.image import img_to_array, load_img\n",
        "from sklearn.preprocessing import LabelEncoder\n",
        "from sklearn.model_selection import train_test_split\n",
        "import numpy as np\n",
        "import random\n",
        "import os\n"
      ],
      "execution_count": null,
      "outputs": []
    },
    {
      "cell_type": "code",
      "metadata": {
        "id": "LZyk_18NHEdK"
      },
      "source": [
        "#lấy các đường dẫn ảnh\n",
        "image_path = list(paths.list_images('dataset/'))\n",
        "\n",
        "#xáo trộn các đường dẫn\n",
        "random.shuffle(image_path)\n",
        "\n",
        "#imagepath: 'dataset/label/img.jpg',...\n",
        "labels = [p.split(os.path.sep)[-2] for p in image_path]\n",
        "\n",
        "#chuyển tên các label thành số\n",
        "le = LabelEncoder()\n",
        "labels = le.fit_transform(labels)\n",
        "\n"
      ],
      "execution_count": null,
      "outputs": []
    },
    {
      "cell_type": "code",
      "metadata": {
        "colab": {
          "base_uri": "https://localhost:8080/"
        },
        "id": "ThT_ityTIiFL",
        "outputId": "cc101589-4591-4100-c210-0dea2db91802"
      },
      "source": [
        "#load vgg16  bỏ phần fully connected layer\n",
        "model = VGG16(weights='imagenet', include_top=False)\n",
        "\n",
        "#load ảnh và resize về kích thước của VGG\n",
        "list_image = []\n",
        "for (j, imagePath) in enumerate(image_path):\n",
        "\n",
        "    image = load_img(imagePath, target_size=(224, 224))   #print(image) <PIL.Image.Image image mode=RGB size=224x224 at 0x7F527B0EB950> ....\n",
        "    image = img_to_array(image)\n",
        "    image = np.expand_dims(image, 0)\n",
        "    image = imagenet_utils.preprocess_input(image)\n",
        "\n",
        "    list_image.append(image)\n",
        "\n",
        "list_image = np.vstack(list_image)\n",
        "\n",
        "#dùng pretrain model để lấy ra các đặc trưng của ảnh:\n",
        "features = model.predict(list_image)\n",
        "print(features.shape)\n",
        "\n",
        "#same same flaten\n",
        "features = features.reshape((features.shape[0], 512*7*7))\n",
        "print(features.shape)\n"
      ],
      "execution_count": null,
      "outputs": [
        {
          "output_type": "stream",
          "text": [
            "(1360, 7, 7, 512)\n",
            "(1360, 25088)\n"
          ],
          "name": "stdout"
        }
      ]
    },
    {
      "cell_type": "code",
      "metadata": {
        "colab": {
          "base_uri": "https://localhost:8080/"
        },
        "id": "daPZ4E7AOikb",
        "outputId": "30c8b20d-6f0d-4a40-a0eb-7fc71d603e59"
      },
      "source": [
        "#chia train test set ti le 80:20\n",
        "train_X, test_X, train_Y, test_Y = train_test_split(features, labels, test_size=0.2, random_state=42)\n",
        "print(train_X.shape, train_Y.shape)"
      ],
      "execution_count": null,
      "outputs": [
        {
          "output_type": "stream",
          "text": [
            "(1088, 25088) (1088,)\n"
          ],
          "name": "stdout"
        }
      ]
    },
    {
      "cell_type": "code",
      "metadata": {
        "colab": {
          "base_uri": "https://localhost:8080/"
        },
        "id": "rTsX8ErrOoYq",
        "outputId": "96483f1c-5b70-48a2-a9ff-550db431e654"
      },
      "source": [
        "\n",
        "# Grid search để tìm các parameter tốt nhất cho model. C = 1/lamda, hệ số trong regularisation. Solver là kiểu optimize\n",
        "# https://scikit-learn.org/stable/modules/generated/sklearn.linear_model.LogisticRegression.html\n",
        "params = {'C' : [0.1, 1.0, 10.0, 100.0]}\n",
        "#model = GridSearchCV(LogisticRegression(solver='lbfgs', multi_class='multinomial'), params)\n",
        "model = GridSearchCV(LogisticRegression(), params)\n",
        "model.fit(train_X, train_Y)\n",
        "print('Best parameter for the model {}'.format(model.best_params_))"
      ],
      "execution_count": null,
      "outputs": [
        {
          "output_type": "stream",
          "text": [
            "Best parameter for the model {'C': 10.0}\n"
          ],
          "name": "stdout"
        }
      ]
    },
    {
      "cell_type": "code",
      "metadata": {
        "colab": {
          "base_uri": "https://localhost:8080/"
        },
        "id": "LLyXUrIyUIKP",
        "outputId": "b42c4b9f-5731-496a-b0a5-aaf11d971314"
      },
      "source": [
        "\n",
        "# Đánh giá model\n",
        "preds = model.predict(test_X)\n",
        "print(classification_report(test_Y, preds))"
      ],
      "execution_count": null,
      "outputs": [
        {
          "output_type": "stream",
          "text": [
            "              precision    recall  f1-score   support\n",
            "\n",
            "           0       0.94      0.94      0.94        17\n",
            "           1       1.00      0.86      0.92        21\n",
            "           2       1.00      0.92      0.96        12\n",
            "           3       0.78      0.90      0.84        20\n",
            "           4       0.89      0.94      0.92        18\n",
            "           5       0.93      0.78      0.85        18\n",
            "           6       1.00      1.00      1.00        11\n",
            "           7       1.00      1.00      1.00        15\n",
            "           8       1.00      1.00      1.00        17\n",
            "           9       0.90      0.95      0.92        19\n",
            "          10       0.82      0.93      0.87        15\n",
            "          11       1.00      1.00      1.00        11\n",
            "          12       0.82      0.90      0.86        20\n",
            "          13       1.00      1.00      1.00        15\n",
            "          14       1.00      1.00      1.00        12\n",
            "          15       0.94      0.83      0.88        18\n",
            "          16       0.92      0.92      0.92        13\n",
            "\n",
            "    accuracy                           0.93       272\n",
            "   macro avg       0.94      0.93      0.93       272\n",
            "weighted avg       0.93      0.93      0.93       272\n",
            "\n"
          ],
          "name": "stdout"
        }
      ]
    }
  ]
}